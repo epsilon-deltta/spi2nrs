{
 "cells": [
  {
   "cell_type": "markdown",
   "id": "f3d50160-a52d-45ee-83e3-eeac76c291dc",
   "metadata": {},
   "source": [
    "### SPI "
   ]
  },
  {
   "cell_type": "markdown",
   "id": "19669c06-4e6a-4794-9d6c-166b24eb6e9d",
   "metadata": {},
   "source": [
    "#### data split "
   ]
  },
  {
   "cell_type": "code",
   "execution_count": 1,
   "id": "a35d9bd0-3d41-4536-8907-97105300a7cd",
   "metadata": {},
   "outputs": [],
   "source": [
    "import pandas as pd\n",
    "path = '../data/spi10_2nrs.csv'\n",
    "df = pd.read_csv(path)"
   ]
  },
  {
   "cell_type": "code",
   "execution_count": 2,
   "id": "55361199-c8fc-4ce0-b1cf-d8da3d5c6f10",
   "metadata": {},
   "outputs": [],
   "source": [
    "from dataset import nrs2class \n",
    "\n",
    "df.pacu_nrs = df.pacu_nrs.map(lambda x: nrs2class(x,pain_type=2))\n",
    "\n",
    "from sklearn.model_selection import train_test_split\n",
    "xtr, xte, ytr, yte = train_test_split(df.iloc[:,:-1], df.iloc[:,-1], test_size=0.4, shuffle=True, stratify=df.iloc[:,-1], random_state=34)\n",
    "\n",
    "trdf = xtr.join(ytr)\n",
    "tedf = xte.join(yte)\n",
    "\n",
    "trdf.to_csv('../data/spi10_nrs_train.csv',index=False)\n",
    "tedf.to_csv('../data/spi10_nrs_test.csv',index=False)"
   ]
  },
  {
   "cell_type": "markdown",
   "id": "be1be534-1677-4181-904b-613baf6229dc",
   "metadata": {},
   "source": [
    "#### Model shooting "
   ]
  },
  {
   "cell_type": "code",
   "execution_count": 7,
   "id": "dc18d806-4190-4d24-8649-542d6889222f",
   "metadata": {},
   "outputs": [],
   "source": [
    "import torch\n",
    "from dataset import Spi10_2nrs\n",
    "\n",
    "trdt  = Spi10_2nrs('../data/spi10_nrs_train.csv')\n",
    "tedt  = Spi10_2nrs('../data/spi10_nrs_test.csv')\n",
    "\n",
    "trdl  = torch.utils.data.DataLoader(trdt, batch_size=8)\n",
    "tedl  = torch.utils.data.DataLoader(tedt, batch_size=8)"
   ]
  },
  {
   "cell_type": "code",
   "execution_count": 4,
   "id": "469d9ba8-2ae8-481d-a3c4-66371b5fbca5",
   "metadata": {},
   "outputs": [],
   "source": [
    "# test\n",
    "trit = iter(trdl)\n",
    "\n",
    "x,y = next(trit)"
   ]
  },
  {
   "cell_type": "code",
   "execution_count": 15,
   "id": "b633ea1d-2017-4c5c-a947-18592b1be7db",
   "metadata": {},
   "outputs": [
    {
     "ename": "NameError",
     "evalue": "name 'nn' is not defined",
     "output_type": "error",
     "traceback": [
      "\u001b[0;31m---------------------------------------------------------------------------\u001b[0m",
      "\u001b[0;31mNameError\u001b[0m                                 Traceback (most recent call last)",
      "\u001b[0;32m<ipython-input-15-0ef93e919d19>\u001b[0m in \u001b[0;36m<module>\u001b[0;34m\u001b[0m\n\u001b[1;32m      1\u001b[0m \u001b[0min_node\u001b[0m \u001b[0;34m=\u001b[0m \u001b[0;36m5\u001b[0m\u001b[0;34m\u001b[0m\u001b[0;34m\u001b[0m\u001b[0m\n\u001b[0;32m----> 2\u001b[0;31m \u001b[0mlin_0\u001b[0m  \u001b[0;34m=\u001b[0m \u001b[0mnn\u001b[0m\u001b[0;34m.\u001b[0m\u001b[0mLinear\u001b[0m\u001b[0;34m(\u001b[0m\u001b[0min_node\u001b[0m\u001b[0;34m,\u001b[0m\u001b[0min_node\u001b[0m\u001b[0;34m*\u001b[0m\u001b[0;36m2\u001b[0m\u001b[0;34m)\u001b[0m\u001b[0;34m\u001b[0m\u001b[0;34m\u001b[0m\u001b[0m\n\u001b[0m\u001b[1;32m      3\u001b[0m \u001b[0mgelu_0\u001b[0m \u001b[0;34m=\u001b[0m \u001b[0mnn\u001b[0m\u001b[0;34m.\u001b[0m\u001b[0mGELU\u001b[0m\u001b[0;34m(\u001b[0m\u001b[0;34m)\u001b[0m\u001b[0;34m\u001b[0m\u001b[0;34m\u001b[0m\u001b[0m\n\u001b[1;32m      4\u001b[0m \u001b[0mbn_0\u001b[0m \u001b[0;34m=\u001b[0m \u001b[0mnn\u001b[0m\u001b[0;34m.\u001b[0m\u001b[0mBatchNorm1d\u001b[0m\u001b[0;34m(\u001b[0m\u001b[0;36m5\u001b[0m\u001b[0;34m)\u001b[0m\u001b[0;34m\u001b[0m\u001b[0;34m\u001b[0m\u001b[0m\n",
      "\u001b[0;31mNameError\u001b[0m: name 'nn' is not defined"
     ]
    }
   ],
   "source": [
    "from torch import nn\n",
    "in_node = 5\n",
    "lin_0  = nn.Linear(in_node,in_node*2)\n",
    "gelu_0 = nn.GELU()\n",
    "bn_0 = nn.BatchNorm1d(5)"
   ]
  },
  {
   "cell_type": "code",
   "execution_count": null,
   "id": "cc3ba803-ff06-4399-84d1-ed689f244cd9",
   "metadata": {},
   "outputs": [],
   "source": []
  },
  {
   "cell_type": "code",
   "execution_count": null,
   "id": "4fdfbc5f-c279-4edb-b6c9-215e9d9c5f9e",
   "metadata": {},
   "outputs": [],
   "source": [
    "from torch import nn\n",
    "import torchaudio\n",
    "class SimpleSPI10(torch.nn.Module):\n",
    "    def __init__(self,in_node=5):\n",
    "        super(SimpleSPI10,self).__init__()\n",
    "\n",
    "        # feature_extraction\n",
    "        bundle = torchaudio.pipelines.WAV2VEC2_ASR_BASE_960H\n",
    "        self.wave2vec = bundle.get_model()\n",
    "    \n",
    "        encoder_layer = nn.TransformerEncoderLayer(d_model=32, nhead=4)\n",
    "        tf_enc = nn.TransformerEncoder(encoder_layer, num_layers=3)\n",
    "\n",
    "\n",
    "        conv1d_0 = nn.Conv1d(281,140,3)\n",
    "        gelu_0 = nn.GELU()\n",
    "        bn_0 = nn.BatchNorm1d(140)\n",
    "        convb_0 = nn.Sequential(conv1d_0,gelu_0,bn_0)\n",
    "\n",
    "        conv1d_1 = nn.Conv1d(140,70,3)\n",
    "        gelu_1 = nn.GELU()\n",
    "        bn_1 = nn.BatchNorm1d(70)\n",
    "        convb_1 = nn.Sequential(conv1d_1,gelu_1,bn_1)\n",
    "\n",
    "        conv1d_2 = nn.Conv1d(70,35,3)\n",
    "        gelu_2 = nn.GELU()\n",
    "        bn_2 = nn.BatchNorm1d(35)\n",
    "        convb_2 = nn.Sequential(conv1d_2,gelu_2,bn_2)\n",
    "\n",
    "        lin_3 = nn.Linear(26,14)\n",
    "        relu_3 = nn.ReLU()\n",
    "        linb_0 = nn.Sequential(lin_3,relu_3)\n",
    "\n",
    "        lin_4 = nn.Linear(14,7)\n",
    "        relu_4 = nn.ReLU()\n",
    "        bn_4 = nn.BatchNorm1d(35)\n",
    "        linb_1 = nn.Sequential(lin_4,relu_4,bn_4)\n",
    "\n",
    "        fl_5 = nn.Flatten()\n",
    "        lin_5 = nn.Linear(245,2)\n",
    "\n",
    "        final = nn.Sequential(fl_5,lin_5)\n",
    "        convbs = nn.Sequential(convb_0,convb_1,convb_2)\n",
    "        lins   = nn.Sequential(linb_0,linb_1)\n",
    "\n",
    "        self.blocks = nn.ModuleDict({'attention':tf_enc,'conv_blocks':convbs,'lin_blocks':lins,'fc':final})\n",
    "        \n",
    "    def forward(self,out):\n",
    "        out, _ = self.wave2vec(out)\n",
    "        out    = self.blocks['attention'](out)\n",
    "        out    = self.blocks['conv_blocks'](out)\n",
    "        out    = self.blocks['lin_blocks'](out)\n",
    "        out    = self.blocks['fc'](out)\n",
    "        return out"
   ]
  },
  {
   "cell_type": "code",
   "execution_count": null,
   "id": "bf04320c-72a2-44a8-9ec9-a689ec541f67",
   "metadata": {},
   "outputs": [],
   "source": [
    "device = 'cuda' if torch.cuda.is_available() else 'cpu'\n",
    "con0 = cons().to(device)\n",
    "loss = nn.CrossEntropyLoss()\n",
    "opt  = torch.optim.Adam(con0.parameters() )"
   ]
  },
  {
   "cell_type": "code",
   "execution_count": null,
   "id": "ee7c32ed-6e90-49fd-8541-f28b79487fbc",
   "metadata": {},
   "outputs": [],
   "source": [
    "def train(dl,model,lossf,opt):\n",
    "    for x,y in dl:\n",
    "        x,y = x.to(device),y.to(device)\n",
    "        pre = model(x)\n",
    "        loss = lossf(pre,y)\n",
    "\n",
    "        opt.zero_grad()\n",
    "        loss.backward()\n",
    "        opt.step()\n",
    "\n",
    "def test(dl,model,lossf):\n",
    "    model.eval()\n",
    "    size, acc , losses = len(dl.dataset) ,0,0\n",
    "    with torch.no_grad():\n",
    "        for x,y in dl:\n",
    "            x,y = x.to(device),y.to(device)\n",
    "            pre = model(x)\n",
    "            loss = lossf(pre,y)\n",
    "\n",
    "            acc += (pre.argmax(1)==y).type(torch.float).sum().item()\n",
    "            losses += loss.item()\n",
    "    print(f'{acc/size} : {losses/size}')\n",
    "\n",
    "from tqdm import tqdm\n",
    "for _ in range(120):\n",
    "    train(trdl,con0,loss,opt)\n",
    "    test(tedl,con0,loss)"
   ]
  },
  {
   "cell_type": "markdown",
   "id": "d5a00de3-2261-4196-b4ff-7b4113c3a641",
   "metadata": {},
   "source": [
    "### PPG (wav2vec) "
   ]
  },
  {
   "cell_type": "markdown",
   "id": "21faee67-b938-4ad2-9977-31e2861f26f8",
   "metadata": {},
   "source": [
    "#### data split "
   ]
  },
  {
   "cell_type": "code",
   "execution_count": 2,
   "id": "b5d0678e-29fc-4331-8780-1a9b29681445",
   "metadata": {},
   "outputs": [],
   "source": [
    "import pandas as pd\n",
    "\n",
    "path='../data/vital2/dd_all_simple.csv'\n",
    "df = pd.read_csv(path)"
   ]
  },
  {
   "cell_type": "code",
   "execution_count": 6,
   "id": "101e4e1d-c9df-4b6c-9c13-53eaf6f36e08",
   "metadata": {},
   "outputs": [
    {
     "data": {
      "text/html": [
       "<div>\n",
       "<style scoped>\n",
       "    .dataframe tbody tr th:only-of-type {\n",
       "        vertical-align: middle;\n",
       "    }\n",
       "\n",
       "    .dataframe tbody tr th {\n",
       "        vertical-align: top;\n",
       "    }\n",
       "\n",
       "    .dataframe thead th {\n",
       "        text-align: right;\n",
       "    }\n",
       "</style>\n",
       "<table border=\"1\" class=\"dataframe\">\n",
       "  <thead>\n",
       "    <tr style=\"text-align: right;\">\n",
       "      <th></th>\n",
       "      <th>key</th>\n",
       "      <th>pacu_nrs</th>\n",
       "    </tr>\n",
       "  </thead>\n",
       "  <tbody>\n",
       "    <tr>\n",
       "      <th>0</th>\n",
       "      <td>JTOR3_210329_13</td>\n",
       "      <td>3</td>\n",
       "    </tr>\n",
       "    <tr>\n",
       "      <th>1</th>\n",
       "      <td>JTOR2_211018_13</td>\n",
       "      <td>3</td>\n",
       "    </tr>\n",
       "    <tr>\n",
       "      <th>2</th>\n",
       "      <td>JTOR3_201209_11</td>\n",
       "      <td>0</td>\n",
       "    </tr>\n",
       "    <tr>\n",
       "      <th>3</th>\n",
       "      <td>JTOR4_210927_14</td>\n",
       "      <td>3</td>\n",
       "    </tr>\n",
       "    <tr>\n",
       "      <th>4</th>\n",
       "      <td>JTOR3_210726_08</td>\n",
       "      <td>3</td>\n",
       "    </tr>\n",
       "    <tr>\n",
       "      <th>...</th>\n",
       "      <td>...</td>\n",
       "      <td>...</td>\n",
       "    </tr>\n",
       "    <tr>\n",
       "      <th>109</th>\n",
       "      <td>JTOR2_210419_13</td>\n",
       "      <td>3</td>\n",
       "    </tr>\n",
       "    <tr>\n",
       "      <th>110</th>\n",
       "      <td>JTOR2_211110_09</td>\n",
       "      <td>1</td>\n",
       "    </tr>\n",
       "    <tr>\n",
       "      <th>111</th>\n",
       "      <td>JTOR3_211222_11</td>\n",
       "      <td>3</td>\n",
       "    </tr>\n",
       "    <tr>\n",
       "      <th>112</th>\n",
       "      <td>JTOR5_201211_08</td>\n",
       "      <td>1</td>\n",
       "    </tr>\n",
       "    <tr>\n",
       "      <th>113</th>\n",
       "      <td>JTOR5_201214_08</td>\n",
       "      <td>0</td>\n",
       "    </tr>\n",
       "  </tbody>\n",
       "</table>\n",
       "<p>114 rows × 2 columns</p>\n",
       "</div>"
      ],
      "text/plain": [
       "                 key  pacu_nrs\n",
       "0    JTOR3_210329_13         3\n",
       "1    JTOR2_211018_13         3\n",
       "2    JTOR3_201209_11         0\n",
       "3    JTOR4_210927_14         3\n",
       "4    JTOR3_210726_08         3\n",
       "..               ...       ...\n",
       "109  JTOR2_210419_13         3\n",
       "110  JTOR2_211110_09         1\n",
       "111  JTOR3_211222_11         3\n",
       "112  JTOR5_201211_08         1\n",
       "113  JTOR5_201214_08         0\n",
       "\n",
       "[114 rows x 2 columns]"
      ]
     },
     "execution_count": 6,
     "metadata": {},
     "output_type": "execute_result"
    }
   ],
   "source": [
    "df"
   ]
  },
  {
   "cell_type": "code",
   "execution_count": null,
   "id": "5063659d-1994-485e-87e8-8c6b5ca1207b",
   "metadata": {},
   "outputs": [],
   "source": [
    "train"
   ]
  },
  {
   "cell_type": "code",
   "execution_count": 7,
   "id": "109ae380-3cd8-4948-8e01-2a247c0452a2",
   "metadata": {},
   "outputs": [],
   "source": [
    "from dataset import nrs2class \n",
    "\n",
    "df.pacu_nrs = df.pacu_nrs.map(lambda x: nrs2class(x,pain_type=2))\n",
    "\n",
    "from sklearn.model_selection import train_test_split"
   ]
  },
  {
   "cell_type": "code",
   "execution_count": 25,
   "id": "bd8956a7-fb6d-4dfc-8c48-a7e7d3649981",
   "metadata": {},
   "outputs": [],
   "source": [
    "xtr,xte,ytr,yte = train_test_split(df[['key']],df[['pacu_nrs']],test_size=0.4,stratify=df['pacu_nrs'])"
   ]
  },
  {
   "cell_type": "code",
   "execution_count": 20,
   "id": "32ad2a28-c45f-43f3-bdcc-128e6e2cbc1b",
   "metadata": {},
   "outputs": [],
   "source": [
    "# len(xtr),len(xte)\n",
    "# (68, 46)\n",
    "\n",
    "# yte.value_counts()\n",
    "# 0    38\n",
    "# 1     8\n",
    "# Name: pacu_nrs"
   ]
  },
  {
   "cell_type": "code",
   "execution_count": 27,
   "id": "946eb599-2493-4e11-a7dd-9f9d521d3c95",
   "metadata": {},
   "outputs": [],
   "source": [
    "trdf = xtr.join(ytr)\n",
    "tedf = xte.join(yte)\n",
    "\n",
    "trdf.to_csv('../data/vital2/dd_all_simple_train.csv',index=False)\n",
    "tedf.to_csv('../data/vital2/dd_all_simple_test.csv',index=False)"
   ]
  },
  {
   "cell_type": "code",
   "execution_count": 29,
   "id": "77537ab3-24e5-4a46-9f2c-c317f2af653d",
   "metadata": {},
   "outputs": [],
   "source": [
    "import torch\n",
    "from dataset import PPGDT\n",
    "\n",
    "trdt  = PPGDT(op_path= '../data/vital2/dd_all_simple_train.csv')\n",
    "tedt  = PPGDT(op_path= '../data/vital2/dd_all_simple_test.csv')\n",
    "\n",
    "trdl  = torch.utils.data.DataLoader(trdt, batch_size=4)\n",
    "tedl  = torch.utils.data.DataLoader(tedt, batch_size=4)"
   ]
  },
  {
   "cell_type": "code",
   "execution_count": 30,
   "id": "b852fdc5-9744-4cde-8282-e9a79e7437b1",
   "metadata": {},
   "outputs": [],
   "source": [
    "trit = iter(trdl)"
   ]
  },
  {
   "cell_type": "code",
   "execution_count": 31,
   "id": "d9ed7d5f-c961-4c1a-ae35-f81f2af07347",
   "metadata": {},
   "outputs": [],
   "source": [
    "x,y = next (trit)"
   ]
  }
 ],
 "metadata": {
  "kernelspec": {
   "display_name": "torch0",
   "language": "python",
   "name": "torch0"
  },
  "language_info": {
   "codemirror_mode": {
    "name": "ipython",
    "version": 3
   },
   "file_extension": ".py",
   "mimetype": "text/x-python",
   "name": "python",
   "nbconvert_exporter": "python",
   "pygments_lexer": "ipython3",
   "version": "3.6.13"
  }
 },
 "nbformat": 4,
 "nbformat_minor": 5
}
