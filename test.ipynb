{
 "cells": [
  {
   "cell_type": "markdown",
   "id": "27f9238b-7277-4a68-9bcf-4a0496be87ad",
   "metadata": {},
   "source": [
    "#### SPI10 2 NRS "
   ]
  },
  {
   "cell_type": "code",
   "execution_count": 7,
   "id": "98f99d13-f7d7-43f0-aa26-0debaf8ee16c",
   "metadata": {},
   "outputs": [],
   "source": [
    "import torch\n",
    "from torch.nn import functional as F\n",
    "import pandas as pd\n",
    "\n",
    "\n",
    "def nrs2class(x,pain_type=3):\n",
    "    pain = ''\n",
    "    \n",
    "    if pain_type == 3:\n",
    "        if x in [0,1,2,3]:\n",
    "            pain = 0\n",
    "        elif x in [4,5]:\n",
    "            pain = 1\n",
    "        else:\n",
    "            pain = 2\n",
    "    elif pain_type == 2:\n",
    "        if x in [0,1,2,3]:\n",
    "            pain = 0\n",
    "        else:\n",
    "            pain = 1\n",
    "    return pain\n",
    "\n",
    "class Spi10_2nrs(torch.utils.data.Dataset):\n",
    "    def __init__(self,file_path='../data/spi10_2nrs.csv'):\n",
    "        df = pd.read_csv(file_path)\n",
    "        del df['id']\n",
    "        df['10min'] = df['10min'].map(float)\n",
    "        df['20min'] = df['20min'].map(float)\n",
    "        df['30min'] = df['30min'].map(float)\n",
    "        df['40min'] = df['40min'].map(float)\n",
    "        df['50min'] = df['50min'].map(float)\n",
    "        df['pacu_nrs'] = df.pacu_nrs.map(lambda x: nrs2class(x,2))\n",
    "        self.df     = df\n",
    "\n",
    "    def __getitem__(self,idx):\n",
    "        x = torch.tensor(self.df.iloc[idx][:-1].to_numpy())\n",
    "        y = torch.tensor([int(self.df.iloc[idx][-1])])\n",
    "        y = F.one_hot(y,num_classes=2)\n",
    "        return x,y\n",
    "    \n",
    "    def __len__(self):\n",
    "        return len(self.df)\n"
   ]
  },
  {
   "cell_type": "code",
   "execution_count": 1,
   "id": "55473a7a-dbfe-431a-827a-d4fd8c20a2e5",
   "metadata": {},
   "outputs": [],
   "source": [
    "from dataset import Spi10_2nrs"
   ]
  },
  {
   "cell_type": "code",
   "execution_count": 3,
   "id": "4a80ef3d-0192-4f96-818a-1b320ea6ed31",
   "metadata": {},
   "outputs": [],
   "source": [
    "import torch\n",
    "trdt  = Spi10_2nrs()\n",
    "trdl  = torch.utils.data.DataLoader(trdt, batch_size=36)\n",
    "\n",
    "# test\n",
    "trit = iter(trdl)\n",
    "\n",
    "x,y = next(trit)"
   ]
  },
  {
   "cell_type": "markdown",
   "id": "20b8c4b3-7e33-4881-86b9-a5c6cedee02e",
   "metadata": {},
   "source": [
    "#### PPG "
   ]
  },
  {
   "cell_type": "code",
   "execution_count": 9,
   "id": "1e075e2a-4d5d-43ee-b7ba-01b3f50c7a71",
   "metadata": {},
   "outputs": [],
   "source": [
    "import os\n",
    "dir_path = '../data/vital2/'\n",
    "\n",
    "flist = os.listdir(dir_path)"
   ]
  },
  {
   "cell_type": "code",
   "execution_count": 13,
   "id": "7f1f50f6-1fec-4d98-b178-a657e112b57f",
   "metadata": {},
   "outputs": [
    {
     "data": {
      "text/plain": [
       "True"
      ]
     },
     "execution_count": 13,
     "metadata": {},
     "output_type": "execute_result"
    }
   ],
   "source": [
    "flist = [ x for x in x.endswith('.vital')"
   ]
  },
  {
   "cell_type": "code",
   "execution_count": 10,
   "id": "9d7025c3-c55a-4ea1-9821-198cfdc19eba",
   "metadata": {},
   "outputs": [],
   "source": [
    "fpaths = [os.path.join(dir_path, x) for x in flist]"
   ]
  },
  {
   "cell_type": "code",
   "execution_count": null,
   "id": "26f51a1d-39db-46e6-a82c-e2f077499ded",
   "metadata": {},
   "outputs": [],
   "source": [
    "import vitaldb\n",
    "vf = vitaldb.VitalFile(fpaths[0])"
   ]
  },
  {
   "cell_type": "code",
   "execution_count": null,
   "id": "4304e259-034b-4ce2-8b19-483a5bc3253d",
   "metadata": {},
   "outputs": [],
   "source": [
    "import torch\n",
    "from torch.nn import functional as F\n",
    "import pandas as pd\n",
    "class ProteinDataset(torch.utils.data.Dataset):\n",
    "    def __init__(self,path,transform='oneHot',only=None):\n",
    "        self.df        = pd.read_csv(path)\n",
    "        if type(transform) == str:\n",
    "            self.transform = transform.lower()\n",
    "        else:\n",
    "            self.transform = transform\n",
    "        \n",
    "        if self.transform == 'ae':\n",
    "            if only is None:\n",
    "                only = 1\n",
    "        \n",
    "        if only is not None:\n",
    "            self.df = self.df[self.df.label == only]\n",
    "            \n",
    "    def __getitem__(self,idx):\n",
    "        item = self.df.iloc[idx]\n",
    "        x = item['seq']\n",
    "        y = item['label']\n",
    "        \n",
    "        if self.transform == 'onehot':\n",
    "            x = self.seq2oneHot(x)\n",
    "        elif self.transform is None:\n",
    "            x = self.seq2int(x)\n",
    "        elif self.transform == 'ae':\n",
    "            x = self.seq2oneHot(x)\n",
    "            x = x.to(torch.float)\n",
    "            y = x \n",
    "            return x,y\n",
    "        y = torch.tensor(y)\n",
    "        # y = self.label2oneHot(y)\n",
    "        return x,y\n",
    "    \n",
    "    def __len__(self):\n",
    "        return len(self.df)\n",
    "    \n"
   ]
  },
  {
   "cell_type": "code",
   "execution_count": null,
   "id": "52d6ceb7-53f6-4900-a704-db75c997b493",
   "metadata": {},
   "outputs": [],
   "source": [
    "vf"
   ]
  },
  {
   "cell_type": "code",
   "execution_count": null,
   "id": "ebea5bd8-7cc2-4b3f-8e00-96d3da338b26",
   "metadata": {},
   "outputs": [],
   "source": [
    "# *.vital data\n",
    "# check interval (1sec, or?)\n",
    "# preprocess\n",
    "# dataset\n",
    "from torch import nn\n",
    "class SimpleNet(nn.Module):\n",
    "    def __init__(self,in_node=5,out_node=2):\n",
    "        super(SimpleNet,self).__init__()\n",
    "        \n",
    "        self.backbone = torchvision.models.squeezenet1_0(pretrained=False)\n",
    "        self.backbone.classifier = nn.Sequential(\n",
    "            nn.Dropout(p=0.5, inplace=False),\n",
    "            nn.Conv2d(512, 256, kernel_size=(1, 1), stride=(1, 1)),\n",
    "            nn.ReLU(inplace=True),\n",
    "            nn.AdaptiveAvgPool2d(output_size=(1, 1)),\n",
    "            nn.Flatten(),\n",
    "            nn.Linear(256,1)\n",
    "          )\n",
    "    def forward(self,x):\n",
    "        x = self.backbone(x)\n",
    "        return x"
   ]
  },
  {
   "cell_type": "code",
   "execution_count": null,
   "id": "9a9941eb-d30c-4394-a70b-ed4202fd3798",
   "metadata": {},
   "outputs": [],
   "source": [
    "import torch\n",
    "from torch.nn import functional as F\n",
    "import pandas as pd\n",
    "class ProteinDataset(torch.utils.data.Dataset):\n",
    "    def __init__(self,path,transform='oneHot',only=None):\n",
    "        self.df        = pd.read_csv(path)\n",
    "        if type(transform) == str:\n",
    "            self.transform = transform.lower()\n",
    "        else:\n",
    "            self.transform = transform\n",
    "        \n",
    "        if self.transform == 'ae':\n",
    "            if only is None:\n",
    "                only = 1\n",
    "        \n",
    "        if only is not None:\n",
    "            self.df = self.df[self.df.label == only]\n",
    "            \n",
    "    def __getitem__(self,idx):\n",
    "        item = self.df.iloc[idx]\n",
    "        x = item['seq']\n",
    "        y = item['label']\n",
    "        \n",
    "        if self.transform == 'onehot':\n",
    "            x = self.seq2oneHot(x)\n",
    "        elif self.transform is None:\n",
    "            x = self.seq2int(x)\n",
    "        elif self.transform == 'ae':\n",
    "            x = self.seq2oneHot(x)\n",
    "            x = x.to(torch.float)\n",
    "            y = x \n",
    "            return x,y\n",
    "        y = torch.tensor(y)\n",
    "        # y = self.label2oneHot(y)\n",
    "        return x,y\n",
    "    \n",
    "    def __len__(self):\n",
    "        return len(self.df)\n",
    "    \n"
   ]
  }
 ],
 "metadata": {
  "kernelspec": {
   "display_name": "torch0",
   "language": "python",
   "name": "torch0"
  },
  "language_info": {
   "codemirror_mode": {
    "name": "ipython",
    "version": 3
   },
   "file_extension": ".py",
   "mimetype": "text/x-python",
   "name": "python",
   "nbconvert_exporter": "python",
   "pygments_lexer": "ipython3",
   "version": "3.6.13"
  }
 },
 "nbformat": 4,
 "nbformat_minor": 5
}
