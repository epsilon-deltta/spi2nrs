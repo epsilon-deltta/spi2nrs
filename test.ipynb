{
 "cells": [
  {
   "cell_type": "markdown",
   "id": "f8e02ccc-8667-4dcf-bdd6-fac73373bd1a",
   "metadata": {},
   "source": [
    "#### Setting "
   ]
  },
  {
   "cell_type": "markdown",
   "id": "8d473730-2382-4158-a4d0-acf4d9638cb9",
   "metadata": {},
   "source": [
    "##### path "
   ]
  },
  {
   "cell_type": "code",
   "execution_count": 193,
   "id": "02b8e131-7db0-4d2b-82f7-019df9526dc1",
   "metadata": {},
   "outputs": [],
   "source": [
    "data_dir = '../data/vital2'\n",
    "\n",
    "ccb = pd.read_csv('../data/vital2/ccbccb.csv',encoding='cp949')\n",
    "stb = pd.read_csv('../data/vital2/ccb_stb.csv',encoding='cp949')\n",
    "oplist= pd.read_csv('../data/vital2/op_list1.csv',encoding='cp949')\n"
   ]
  },
  {
   "cell_type": "markdown",
   "id": "86ddad51-b3ea-4e2e-b83b-ff76efd91c92",
   "metadata": {},
   "source": [
    "##### delete missing file list (dd_all_simple) "
   ]
  },
  {
   "cell_type": "code",
   "execution_count": 1,
   "id": "925e910c-86bb-4e51-bcf3-95a07dd63ea4",
   "metadata": {},
   "outputs": [],
   "source": [
    "import pandas as pd\n",
    "op1 = pd.read_csv('../data/vital2/dd_all_simple.csv',)"
   ]
  },
  {
   "cell_type": "code",
   "execution_count": 10,
   "id": "fa5919b7-4ed9-4034-84a1-ba9796eed694",
   "metadata": {},
   "outputs": [],
   "source": [
    "import os\n",
    "dir_path = '../data/vital2/'\n",
    "\n",
    "flist_ = os.listdir(dir_path)\n",
    "\n",
    "flist_ = [ x for x in flist_ if x.endswith('.vital')]"
   ]
  },
  {
   "cell_type": "code",
   "execution_count": 17,
   "id": "9fbd7367-0507-46fd-9fa0-d2069b5e30f4",
   "metadata": {},
   "outputs": [],
   "source": [
    "missed = []\n",
    "for x in op1.key:\n",
    "    count = 0\n",
    "    for file in flist_:\n",
    "        if x.startswith(file[:15]):\n",
    "            count += 1\n",
    "    if count == 0:\n",
    "        missed.append(x)"
   ]
  },
  {
   "cell_type": "code",
   "execution_count": 298,
   "id": "7a7b69a9-028b-4cd7-a185-7841101015cd",
   "metadata": {},
   "outputs": [],
   "source": [
    "# drop missed files in dd_all\n",
    "for mfile in missed:\n",
    "    op1 = op1.drop(op1[op1.key1==mfile].index)"
   ]
  },
  {
   "cell_type": "code",
   "execution_count": 305,
   "id": "b8b921dc-f67a-4359-a3df-f72734f9b2ec",
   "metadata": {},
   "outputs": [],
   "source": [
    "op1.columns = ['key','pacu_nrs']"
   ]
  },
  {
   "cell_type": "code",
   "execution_count": 8,
   "id": "6edf49c9-b667-4ad4-8c97-d9a0c9410148",
   "metadata": {},
   "outputs": [],
   "source": [
    "op1.to_csv('../data/vital2/dd_all_simple.csv',index=False)"
   ]
  },
  {
   "cell_type": "markdown",
   "id": "27f9238b-7277-4a68-9bcf-4a0496be87ad",
   "metadata": {},
   "source": [
    "#### SPI10 2 NRS "
   ]
  },
  {
   "cell_type": "code",
   "execution_count": 7,
   "id": "98f99d13-f7d7-43f0-aa26-0debaf8ee16c",
   "metadata": {},
   "outputs": [],
   "source": [
    "import torch\n",
    "from torch.nn import functional as F\n",
    "import pandas as pd\n",
    "\n",
    "\n",
    "def nrs2class(x,pain_type=3):\n",
    "    pain = ''\n",
    "    \n",
    "    if pain_type == 3:\n",
    "        if x in [0,1,2,3]:\n",
    "            pain = 0\n",
    "        elif x in [4,5]:\n",
    "            pain = 1\n",
    "        else:\n",
    "            pain = 2\n",
    "    elif pain_type == 2:\n",
    "        if x in [0,1,2,3]:\n",
    "            pain = 0\n",
    "        else:\n",
    "            pain = 1\n",
    "    return pain\n",
    "\n",
    "class Spi10_2nrs(torch.utils.data.Dataset):\n",
    "    def __init__(self,file_path='../data/spi10_2nrs.csv'):\n",
    "        df = pd.read_csv(file_path)\n",
    "        del df['id']\n",
    "        df['10min'] = df['10min'].map(float)\n",
    "        df['20min'] = df['20min'].map(float)\n",
    "        df['30min'] = df['30min'].map(float)\n",
    "        df['40min'] = df['40min'].map(float)\n",
    "        df['50min'] = df['50min'].map(float)\n",
    "        df['pacu_nrs'] = df.pacu_nrs.map(lambda x: nrs2class(x,2))\n",
    "        self.df     = df\n",
    "\n",
    "    def __getitem__(self,idx):\n",
    "        x = torch.tensor(self.df.iloc[idx][:-1].to_numpy())\n",
    "        y = torch.tensor([int(self.df.iloc[idx][-1])])\n",
    "        y = F.one_hot(y,num_classes=2)\n",
    "        return x,y\n",
    "    \n",
    "    def __len__(self):\n",
    "        return len(self.df)\n"
   ]
  },
  {
   "cell_type": "code",
   "execution_count": 1,
   "id": "55473a7a-dbfe-431a-827a-d4fd8c20a2e5",
   "metadata": {},
   "outputs": [],
   "source": [
    "from dataset import Spi10_2nrs"
   ]
  },
  {
   "cell_type": "code",
   "execution_count": 3,
   "id": "4a80ef3d-0192-4f96-818a-1b320ea6ed31",
   "metadata": {},
   "outputs": [],
   "source": [
    "import torch\n",
    "trdt  = Spi10_2nrs()\n",
    "trdl  = torch.utils.data.DataLoader(trdt, batch_size=36)\n",
    "\n",
    "# test\n",
    "trit = iter(trdl)\n",
    "\n",
    "x,y = next(trit)"
   ]
  },
  {
   "cell_type": "markdown",
   "id": "20b8c4b3-7e33-4881-86b9-a5c6cedee02e",
   "metadata": {},
   "source": [
    "#### PPG "
   ]
  },
  {
   "cell_type": "code",
   "execution_count": 40,
   "id": "5a8abf47-84a7-4d10-8bc9-e1d2cd3ef1e9",
   "metadata": {},
   "outputs": [],
   "source": [
    "def nrs2class(x,pain_type=3):\n",
    "    pain = ''\n",
    "    \n",
    "    if pain_type == 3:\n",
    "        if x in [0,1,2,3]:\n",
    "            pain = 0\n",
    "        elif x in [4,5]:\n",
    "            pain = 1\n",
    "        else:\n",
    "            pain = 2\n",
    "    elif pain_type == 2:\n",
    "        if x in [0,1,2,3]:\n",
    "            pain = 0\n",
    "        else:\n",
    "            pain = 1\n",
    "    return pain\n",
    "\n",
    "# __init__\n",
    "# (paths, y) , name\n",
    "from torch.nn import functional as F\n",
    "import os\n",
    "dir_path = '../data/vital2/'\n",
    "\n",
    "flist_ = os.listdir(dir_path)\n",
    "\n",
    "flist_ = [ x for x in flist_ if x.endswith('.vital')]\n",
    "\n",
    "# fpaths = [os.path.join(dir_path, x) for x in flist]\n",
    "\n",
    "import pandas as pd\n",
    "op = pd.read_csv(os.path.join(dir_path,'dd_all_simple.csv'))\n",
    "\n",
    "op = op[['key','pacu_nrs']]\n",
    "\n",
    "flist = []\n",
    "for key in op.key:\n",
    "    \n",
    "    for f in flist_:\n",
    "        if f.startswith(key):\n",
    "            flist.append(f)\n",
    "\n",
    "fpaths = [os.path.join(dir_path,path) for path in flist]\n",
    "\n",
    "labels = op.pacu_nrs.map(lambda x: nrs2class(x,2))\n",
    "\n",
    "# getitem\n",
    "import vitaldb\n",
    "import torch\n",
    "idx = 15\n",
    "\n",
    "cols = ['Intellivue/PLETH']\n",
    "\n",
    "vf = vitaldb.VitalFile(fpaths[idx],cols)\n",
    "x = vf.get_track_samples(cols[0],interval=1/30)\n",
    "y = torch.tensor([labels[idx]])\n",
    "y = F.one_hot(y,num_classes=2)\n",
    "\n",
    "# Missing value (nearest interpolation)\n",
    "x = pd.DataFrame(x,columns=['x'])\n",
    "\n",
    "x = x.fillna(method='ffill').fillna(method='bfill')\n",
    "x = x['x'].to_numpy()"
   ]
  },
  {
   "cell_type": "markdown",
   "id": "e013e9bb-14ca-4e9e-a54b-2f3b5bb4c553",
   "metadata": {},
   "source": [
    "##### dataset class "
   ]
  },
  {
   "cell_type": "code",
   "execution_count": 16,
   "id": "54ca3302-5675-4c98-b3ee-1f40e8dc1958",
   "metadata": {},
   "outputs": [],
   "source": [
    "import torch\n",
    "from torch.nn import functional as F\n",
    "import pandas as pd\n",
    "import vitaldb\n",
    "import numpy as np\n",
    "import os\n",
    "\n",
    "class PPGDT(torch.utils.data.Dataset):\n",
    "    def __init__(self,vital_dir='../data/vital2/',op_path='../data/vital2/dd_all_simple.csv'):\n",
    "        \n",
    "        flist_ = os.listdir(vital_dir)\n",
    "        flist_ = [ x for x in flist_ if x.endswith('.vital')]\n",
    "\n",
    "        op = pd.read_csv(op_path)\n",
    "        op = op[['key','pacu_nrs']]\n",
    "\n",
    "        flist = []\n",
    "        for key in op.key:\n",
    "\n",
    "            for f in flist_:\n",
    "                if f.startswith(key):\n",
    "                    flist.append(f)\n",
    "\n",
    "        self.fpaths = [os.path.join(vital_dir,path) for path in flist]\n",
    "        self.labels = op.pacu_nrs.map(lambda x: nrs2class(x,2))\n",
    "        \n",
    "    def __getitem__(self,idx):\n",
    "\n",
    "        cols = ['Intellivue/PLETH']\n",
    "        vf = vitaldb.VitalFile(self.fpaths[idx],cols)\n",
    "\n",
    "        x = vf.get_track_samples(cols[0],1/30)[:30*60*50] # 30*60*50\n",
    "        x = self.interpolate(x)\n",
    "        x = torch.tensor(x)\n",
    "        \n",
    "        y = torch.tensor([self.labels[idx]])\n",
    "        y = F.one_hot(y,num_classes=2)\n",
    "        return x,y\n",
    "    \n",
    "    def __len__(self):\n",
    "        return len(self.fpaths)\n",
    "\n",
    "    def interpolate(self,x :np.ndarray,mode='nearest')-> np.ndarray:\n",
    "        \n",
    "        if mode == 'nearest':\n",
    "            x = pd.DataFrame(x,columns=['x'])\n",
    "            x = x.fillna(method='ffill').fillna(method='bfill')\n",
    "            x = x['x'].to_numpy()\n",
    "        return x"
   ]
  },
  {
   "cell_type": "code",
   "execution_count": 17,
   "id": "b3d56d5b-347d-4519-badd-2295f2ba609a",
   "metadata": {},
   "outputs": [],
   "source": [
    "import torch\n",
    "trdt  = PPGDT() # interval: 60s, until: 50min.\n",
    "trdl  = torch.utils.data.DataLoader(trdt, batch_size=4)\n",
    "\n",
    "# test\n",
    "trit = iter(trdl)\n",
    "\n",
    "x,y = next(trit)"
   ]
  },
  {
   "cell_type": "markdown",
   "id": "ee41b521-6757-48bb-85d2-6f0c47c008c6",
   "metadata": {},
   "source": [
    "##### Wave2vec "
   ]
  },
  {
   "cell_type": "code",
   "execution_count": 386,
   "id": "04e30964-dbb7-4551-aecb-7639e0d28521",
   "metadata": {},
   "outputs": [],
   "source": [
    "x = torch.tensor(x).reshape(1,-1)"
   ]
  },
  {
   "cell_type": "code",
   "execution_count": 140,
   "id": "70e2f115-c713-475b-9f0d-6fda8e11d8fc",
   "metadata": {},
   "outputs": [
    {
     "data": {
      "text/plain": [
       "=========================================================================================================\n",
       "Layer (type:depth-idx)                                  Output Shape              Param #\n",
       "=========================================================================================================\n",
       "Wav2Vec2Model                                           --                        --\n",
       "├─FeatureExtractor: 1                                   --                        --\n",
       "│    └─ModuleList: 2-1                                  --                        --\n",
       "├─Encoder: 1                                            --                        --\n",
       "│    └─Transformer: 2                                   --                        --\n",
       "│    │    └─ModuleList: 3-1                             --                        85,054,464\n",
       "├─FeatureExtractor: 1-1                                 [4, 49, 512]              --\n",
       "│    └─ModuleList: 2-1                                  --                        --\n",
       "│    │    └─ConvLayerBlock: 3-2                         [4, 512, 3199]            6,144\n",
       "│    │    └─ConvLayerBlock: 3-3                         [4, 512, 1599]            786,432\n",
       "│    │    └─ConvLayerBlock: 3-4                         [4, 512, 799]             786,432\n",
       "│    │    └─ConvLayerBlock: 3-5                         [4, 512, 399]             786,432\n",
       "│    │    └─ConvLayerBlock: 3-6                         [4, 512, 199]             786,432\n",
       "│    │    └─ConvLayerBlock: 3-7                         [4, 512, 99]              524,288\n",
       "│    │    └─ConvLayerBlock: 3-8                         [4, 512, 49]              524,288\n",
       "├─Encoder: 1-2                                          [4, 49, 768]              --\n",
       "│    └─FeatureProjection: 2-2                           [4, 49, 768]              --\n",
       "│    │    └─LayerNorm: 3-9                              [4, 49, 512]              1,024\n",
       "│    │    └─Linear: 3-10                                [4, 49, 768]              393,984\n",
       "│    │    └─Dropout: 3-11                               [4, 49, 768]              --\n",
       "│    └─Transformer: 2-3                                 [4, 49, 768]              --\n",
       "│    │    └─ConvolutionalPositionalEmbedding: 3-12      [4, 49, 768]              4,719,488\n",
       "│    │    └─LayerNorm: 3-13                             [4, 49, 768]              1,536\n",
       "│    │    └─Dropout: 3-14                               [4, 49, 768]              --\n",
       "├─Linear: 1-3                                           [4, 49, 16]               12,304\n",
       "=========================================================================================================\n",
       "Total params: 94,383,248\n",
       "Trainable params: 94,383,248\n",
       "Non-trainable params: 0\n",
       "Total mult-adds (G): 24.64\n",
       "=========================================================================================================\n",
       "Input size (MB): 0.26\n",
       "Forward/backward pass size (MB): 319.76\n",
       "Params size (MB): 377.53\n",
       "Estimated Total Size (MB): 697.55\n",
       "========================================================================================================="
      ]
     },
     "execution_count": 140,
     "metadata": {},
     "output_type": "execute_result"
    }
   ],
   "source": [
    "from torchinfo import summary as sm\n",
    "sm(wave2vec,(4,16000))"
   ]
  },
  {
   "cell_type": "code",
   "execution_count": 5,
   "id": "01c9dcc7-fdd3-46eb-bb59-4e79634878a1",
   "metadata": {},
   "outputs": [
    {
     "data": {
      "text/plain": [
       "16000"
      ]
     },
     "execution_count": 5,
     "metadata": {},
     "output_type": "execute_result"
    }
   ],
   "source": [
    "waveform = torchaudio.functional.resample(waveform, sample_rate, bundle.sample_rate)\n",
    "with torch.inference_mode():\n",
    "    features, _ = model.extract_features(waveform)\n",
    "    \n",
    "with torch.inference_mode():\n",
    "    emission, _ = model(waveform)"
   ]
  },
  {
   "cell_type": "markdown",
   "id": "3b732ced-b21f-4e3d-abb1-faa80539b167",
   "metadata": {},
   "source": [
    "##### - resampe_rate "
   ]
  },
  {
   "cell_type": "code",
   "execution_count": 76,
   "id": "6c623f5f-dcec-4895-9455-9e55319a4ef3",
   "metadata": {},
   "outputs": [],
   "source": [
    "import warnings\n",
    "warnings.filterwarnings(action='ignore')\n",
    "\n",
    "import numpy as np\n",
    "import matplotlib.pyplot as plt\n",
    "import IPython.display as ipd\n",
    "\n",
    "import librosa\n",
    "import librosa.display\n",
    "\n",
    "file_path = './test/disco.00054.wav' # 실습에 사용할 음악 파일"
   ]
  },
  {
   "cell_type": "code",
   "execution_count": 77,
   "id": "c845137a-8a4a-4625-b12a-0bed104f06b6",
   "metadata": {},
   "outputs": [
    {
     "name": "stdout",
     "output_type": "stream",
     "text": [
      "Amplitude: \n",
      " [-0.08001709 -0.07550049 -0.08358765 ...  0.08270264  0.10083008\n",
      "  0.10562134]\n",
      "Sampling rate:  22050\n"
     ]
    }
   ],
   "source": [
    "wav, sr = librosa.load(file_path)\n",
    "\n",
    "print(\"Amplitude: \\n\", wav)\n",
    "print(\"Sampling rate: \", sr)"
   ]
  },
  {
   "cell_type": "markdown",
   "id": "0a1cf771-6cbe-43b7-aa45-3a5183f492b2",
   "metadata": {
    "tags": []
   },
   "source": [
    "##### Model (ft_extraction: wave2vec, model: Transformer) "
   ]
  },
  {
   "cell_type": "code",
   "execution_count": 390,
   "id": "7b6a08e3-9d83-484e-ac8e-3cdd6351a130",
   "metadata": {},
   "outputs": [],
   "source": [
    "# feature_extraction\n",
    "import torchaudio\n",
    "bundle = torchaudio.pipelines.WAV2VEC2_ASR_BASE_960H\n",
    "wave2vec = bundle.get_model()\n",
    "\n",
    "from torch import nn\n",
    "encoder_layer = nn.TransformerEncoderLayer(d_model=32, nhead=4)\n",
    "tf_enc = nn.TransformerEncoder(encoder_layer, num_layers=3)\n",
    "\n",
    "\n",
    "conv1d_0 = nn.Conv1d(281,140,3)\n",
    "gelu_0 = nn.GELU()\n",
    "bn_0 = nn.BatchNorm1d(140)\n",
    "convb_0 = nn.Sequential(conv1d_0,gelu_0,bn_0)\n",
    "\n",
    "conv1d_1 = nn.Conv1d(140,70,3)\n",
    "gelu_1 = nn.GELU()\n",
    "bn_1 = nn.BatchNorm1d(70)\n",
    "convb_1 = nn.Sequential(conv1d_1,gelu_1,bn_1)\n",
    "\n",
    "conv1d_2 = nn.Conv1d(70,35,3)\n",
    "gelu_2 = nn.GELU()\n",
    "bn_2 = nn.BatchNorm1d(35)\n",
    "convb_2 = nn.Sequential(conv1d_2,gelu_2,bn_2)\n",
    "\n",
    "lin_3 = nn.Linear(26,14)\n",
    "relu_3 = nn.ReLU()\n",
    "linb_0 = nn.Sequential(lin_3,relu_3)\n",
    "\n",
    "lin_4 = nn.Linear(14,7)\n",
    "relu_4 = nn.ReLU()\n",
    "bn_4 = nn.BatchNorm1d(35)\n",
    "linb_1 = nn.Sequential(lin_4,relu_4,bn_4)\n",
    "\n",
    "fl_5 = nn.Flatten()\n",
    "lin_5 = nn.Linear(245,2)\n",
    "\n",
    "final = nn.Sequential(fl_5,lin_5)\n",
    "convbs = nn.Sequential(convb_0,convb_1,convb_2)\n",
    "lins   = nn.Sequential(linb_0,linb_1)\n",
    "\n",
    "blocks = nn.ModuleDict({'attention':tf_enc,'conv_blocks':convbs,'lin_blocks':lins,'fc':final})\n",
    "\n",
    "out,_ = wave2vec(x)\n",
    "out = blocks['attention'](out)\n",
    "out = blocks['conv_blocks'](out)\n",
    "out = blocks['lin_blocks'](out)\n",
    "out = blocks['fc'](out)"
   ]
  },
  {
   "cell_type": "code",
   "execution_count": 14,
   "id": "42cb00f1-c1ed-4023-bc82-2687845819d4",
   "metadata": {},
   "outputs": [],
   "source": [
    "from torch import nn\n",
    "import torchaudio\n",
    "class Wave2tf(torch.nn.Module):\n",
    "    def __init__(self):\n",
    "        super(Wave2tf,self).__init__()\n",
    "\n",
    "        # feature_extraction\n",
    "        bundle = torchaudio.pipelines.WAV2VEC2_ASR_BASE_960H\n",
    "        self.wave2vec = bundle.get_model()\n",
    "    \n",
    "        encoder_layer = nn.TransformerEncoderLayer(d_model=32, nhead=4)\n",
    "        tf_enc = nn.TransformerEncoder(encoder_layer, num_layers=3)\n",
    "\n",
    "\n",
    "        conv1d_0 = nn.Conv1d(281,140,3)\n",
    "        gelu_0 = nn.GELU()\n",
    "        bn_0 = nn.BatchNorm1d(140)\n",
    "        convb_0 = nn.Sequential(conv1d_0,gelu_0,bn_0)\n",
    "\n",
    "        conv1d_1 = nn.Conv1d(140,70,3)\n",
    "        gelu_1 = nn.GELU()\n",
    "        bn_1 = nn.BatchNorm1d(70)\n",
    "        convb_1 = nn.Sequential(conv1d_1,gelu_1,bn_1)\n",
    "\n",
    "        conv1d_2 = nn.Conv1d(70,35,3)\n",
    "        gelu_2 = nn.GELU()\n",
    "        bn_2 = nn.BatchNorm1d(35)\n",
    "        convb_2 = nn.Sequential(conv1d_2,gelu_2,bn_2)\n",
    "\n",
    "        lin_3 = nn.Linear(26,14)\n",
    "        relu_3 = nn.ReLU()\n",
    "        linb_0 = nn.Sequential(lin_3,relu_3)\n",
    "\n",
    "        lin_4 = nn.Linear(14,7)\n",
    "        relu_4 = nn.ReLU()\n",
    "        bn_4 = nn.BatchNorm1d(35)\n",
    "        linb_1 = nn.Sequential(lin_4,relu_4,bn_4)\n",
    "\n",
    "        fl_5 = nn.Flatten()\n",
    "        lin_5 = nn.Linear(245,2)\n",
    "\n",
    "        final = nn.Sequential(fl_5,lin_5)\n",
    "        convbs = nn.Sequential(convb_0,convb_1,convb_2)\n",
    "        lins   = nn.Sequential(linb_0,linb_1)\n",
    "\n",
    "        self.blocks = nn.ModuleDict({'attention':tf_enc,'conv_blocks':convbs,'lin_blocks':lins,'fc':final})\n",
    "        \n",
    "    def forward(self,out):\n",
    "        out, _ = self.wave2vec(out)\n",
    "        out    = self.blocks['attention'](out)\n",
    "        out    = self.blocks['conv_blocks'](out)\n",
    "        out    = self.blocks['lin_blocks'](out)\n",
    "        out    = self.blocks['fc'](out)\n",
    "        return out"
   ]
  },
  {
   "cell_type": "markdown",
   "id": "c52318e6-a23a-48fe-9196-3826c7d1a18a",
   "metadata": {},
   "source": [
    "##### - class test "
   ]
  },
  {
   "cell_type": "code",
   "execution_count": 5,
   "id": "75dd2d5b-8f77-4edf-8f02-9b5e63b154e7",
   "metadata": {},
   "outputs": [],
   "source": [
    "import torch\n",
    "from dataset import PPGDT\n",
    "trdt  = PPGDT() # interval: 60s, until: 50min.\n",
    "trdl  = torch.utils.data.DataLoader(trdt, batch_size=4)\n",
    "\n",
    "# test\n",
    "trit = iter(trdl)\n",
    "\n",
    "x,y = next(trit)"
   ]
  },
  {
   "cell_type": "code",
   "execution_count": 2,
   "id": "d87aeb47-6dc4-49eb-b5a8-2c21bdff17b8",
   "metadata": {},
   "outputs": [],
   "source": [
    "from models import Wave2tf\n",
    "wt = Wave2tf()\n",
    "\n",
    "pre = wt(x)"
   ]
  },
  {
   "cell_type": "markdown",
   "id": "b7514f7a-9e64-4a7d-bd6c-60bcb1f5a2db",
   "metadata": {},
   "source": [
    "#### PPG-derived param "
   ]
  },
  {
   "cell_type": "code",
   "execution_count": 1,
   "id": "7db9c346-90f7-4bcf-833b-ac9be6a09375",
   "metadata": {},
   "outputs": [],
   "source": [
    "import torch\n",
    "from dataset import PPGDT\n",
    "trdt  = PPGDT() # interval: 60s, until: 50min.\n",
    "trdl  = torch.utils.data.DataLoader(trdt, batch_size=4)\n",
    "\n",
    "# test\n",
    "trit = iter(trdl)\n",
    "\n",
    "x,y = next(trit)"
   ]
  },
  {
   "cell_type": "code",
   "execution_count": 2,
   "id": "e9063908-925d-43ea-ad86-088d0133f9cf",
   "metadata": {},
   "outputs": [],
   "source": [
    "import numpy as np\n",
    "x = np.array(x)"
   ]
  },
  {
   "cell_type": "code",
   "execution_count": 8,
   "id": "a5ae40cb-eb39-42f0-abdf-c772f0644a13",
   "metadata": {},
   "outputs": [],
   "source": [
    "x1 = x[1,:]"
   ]
  },
  {
   "cell_type": "code",
   "execution_count": null,
   "id": "037ef385-b2f7-495b-ab72-883789b91d16",
   "metadata": {},
   "outputs": [],
   "source": [
    "# FIR Filter (0.5~10 HZ)\n",
    "# x = fir(x,0.5,10)\n",
    "\n",
    "# Peak detection \n",
    "# time,peak_info = get_ppg_peak(x) \n",
    "# 0.5: systolic peak, 0.7: diastolic peak\n",
    "\n",
    "# ACV_sys/ACA_dia \n",
    "# pair-wise division "
   ]
  },
  {
   "cell_type": "code",
   "execution_count": 116,
   "id": "2fd5d81b-e981-49e8-84fc-781337f19c14",
   "metadata": {},
   "outputs": [],
   "source": [
    "import neurokit2 as nk\n",
    "\n",
    "ppg = nk.ppg_simulate(duration=10, sampling_rate=60, heart_rate=70)\n",
    "\n",
    "# signals, info = nk.ppg_process(ppg, sampling_rate=1000)\n",
    "# nk.ppg_plot(signals)"
   ]
  },
  {
   "cell_type": "markdown",
   "id": "ebbb2790-561b-451a-b868-8734cbc77ef8",
   "metadata": {},
   "source": [
    "##### Pass Filter "
   ]
  },
  {
   "cell_type": "code",
   "execution_count": 112,
   "id": "9a2d2049-6ea5-49f2-b966-82b01cbe9583",
   "metadata": {},
   "outputs": [],
   "source": [
    "from scipy import signal\n",
    "\n",
    "def LPF(series, low, order=1):\n",
    "    \n",
    "    b, a = signal.butter(\n",
    "                  N = order,\n",
    "                  Wn = low,\n",
    "                  btype = 'low',\n",
    "                  )\n",
    "    lpf_series = signal.lfilter(b, a, series)\n",
    "    \n",
    "    return lpf_series\n",
    "def HPF(series, high, order=1):\n",
    "    \n",
    "    b, a = signal.butter(\n",
    "                  N = order,\n",
    "                  Wn = high,\n",
    "                  btype = 'high',\n",
    "                  )\n",
    "    hpf_series = signal.lfilter(b, a, series)\n",
    "    \n",
    "    return hpf_series\n",
    "\n",
    "def BPF(series, low, high, order=1):\n",
    "\n",
    "    b, a = signal.butter(\n",
    "                  N = order,\n",
    "                  Wn = [low, high], \n",
    "                  btype = 'band',\n",
    "                  )\n",
    "    bpf_series = signal.lfilter(b, a, series)\n",
    "    \n",
    "    return bpf_series\n",
    "ppg_f = BPF(ppg, 0.4, 0.6, 1)\n",
    "# ppg_f = LPF(ppg, 0.1, 1)\n",
    "# ppg_f = HPF(ppg, 0.9, 1)"
   ]
  },
  {
   "cell_type": "code",
   "execution_count": 113,
   "id": "4f298924-8b9c-4497-83b9-91060e949211",
   "metadata": {},
   "outputs": [
    {
     "data": {
      "text/plain": [
       "[<matplotlib.lines.Line2D at 0x7f5895921710>]"
      ]
     },
     "execution_count": 113,
     "metadata": {},
     "output_type": "execute_result"
    },
    {
     "data": {
      "image/png": "[encoded data removed]",
      "text/plain": [
       "<Figure size 720x360 with 1 Axes>"
      ]
     },
     "metadata": {
      "needs_background": "light"
     },
     "output_type": "display_data"
    }
   ],
   "source": [
    "import matplotlib.pyplot as plt\n",
    "plt.figure(figsize=(10,5))\n",
    "plt.plot(ppg)\n",
    "\n",
    "plt.plot(ppg_f)"
   ]
  },
  {
   "cell_type": "markdown",
   "id": "eb5d0f75-f713-48b6-9a19-5fa49e684223",
   "metadata": {},
   "source": [
    "##### peak detection "
   ]
  },
  {
   "cell_type": "code",
   "execution_count": 123,
   "id": "3dd27f67-738f-4cf1-831d-ba831994ab3d",
   "metadata": {},
   "outputs": [],
   "source": [
    "import heartpy as hp\n",
    "from heartpy.datautils import rolling_mean\n",
    "from heartpy.peakdetection import detect_peaks"
   ]
  },
  {
   "cell_type": "code",
   "execution_count": 117,
   "id": "b7c5fb33-ec15-439d-99ac-01f7fdb2258e",
   "metadata": {},
   "outputs": [],
   "source": [
    "data, _ = hp.load_exampledata(0)\n",
    "rol_mean = rolling_mean(ppg, windowsize = 0.75, sample_rate = 60)"
   ]
  },
  {
   "cell_type": "code",
   "execution_count": 121,
   "id": "d0067dd4-edd4-4732-943f-05ec7ae57758",
   "metadata": {},
   "outputs": [
    {
     "data": {
      "text/plain": [
       "[<matplotlib.lines.Line2D at 0x7f5894e462e8>]"
      ]
     },
     "execution_count": 121,
     "metadata": {},
     "output_type": "execute_result"
    },
    {
     "data": {
      "image/png": "[encoded data removed]",
      "text/plain": [
       "<Figure size 432x288 with 1 Axes>"
      ]
     },
     "metadata": {
      "needs_background": "light"
     },
     "output_type": "display_data"
    }
   ],
   "source": [
    "plt.plot(ppg)\n",
    "plt.plot(rol_mean)"
   ]
  },
  {
   "cell_type": "code",
   "execution_count": 124,
   "id": "bc952f31-92c4-48d8-b7cf-63d67f6b3f62",
   "metadata": {},
   "outputs": [],
   "source": [
    "wd = detect_peaks(ppg, rol_mean, ma_perc = 20, sample_rate = 60)"
   ]
  },
  {
   "cell_type": "code",
   "execution_count": 126,
   "id": "d4f70937-e369-4652-b66f-6462bbc43017",
   "metadata": {},
   "outputs": [
    {
     "data": {
      "text/plain": [
       "dict_keys(['peaklist', 'ybeat', 'rolling_mean', 'RR_list', 'RR_indices', 'RR_diff', 'RR_sqdiff', 'rrsd'])"
      ]
     },
     "execution_count": 126,
     "metadata": {},
     "output_type": "execute_result"
    }
   ],
   "source": [
    "wd.keys()"
   ]
  },
  {
   "cell_type": "code",
   "execution_count": 135,
   "id": "d72f6436-1f33-4a35-87d6-c38426a3c618",
   "metadata": {},
   "outputs": [
    {
     "data": {
      "text/plain": [
       "<matplotlib.collections.PathCollection at 0x7f588ed345c0>"
      ]
     },
     "execution_count": 135,
     "metadata": {},
     "output_type": "execute_result"
    },
    {
     "data": {
      "image/png": "[encoded data removed]",
      "text/plain": [
       "<Figure size 432x288 with 1 Axes>"
      ]
     },
     "metadata": {
      "needs_background": "light"
     },
     "output_type": "display_data"
    }
   ],
   "source": [
    "plt.plot(ppg)\n",
    "plt.scatter(wd['peaklist'],ppg[wd['peaklist']],marker='*',c='r')"
   ]
  }
 ],
 "metadata": {
  "kernelspec": {
   "display_name": "torch0",
   "language": "python",
   "name": "torch0"
  },
  "language_info": {
   "codemirror_mode": {
    "name": "ipython",
    "version": 3
   },
   "file_extension": ".py",
   "mimetype": "text/x-python",
   "name": "python",
   "nbconvert_exporter": "python",
   "pygments_lexer": "ipython3",
   "version": "3.6.13"
  }
 },
 "nbformat": 4,
 "nbformat_minor": 5
}
